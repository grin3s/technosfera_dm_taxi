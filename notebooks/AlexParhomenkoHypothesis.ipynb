{
 "cells": [
  {
   "cell_type": "code",
   "execution_count": 29,
   "metadata": {
    "collapsed": true
   },
   "outputs": [],
   "source": [
    "import pandas as pd\n",
    "import numpy as np\n",
    "import matplotlib.pylab as plt\n",
    "import scipy as sc\n",
    "\n",
    "%matplotlib inline"
   ]
  },
  {
   "cell_type": "code",
   "execution_count": 30,
   "metadata": {
    "collapsed": false
   },
   "outputs": [
    {
     "data": {
      "text/html": [
       "<div>\n",
       "<table border=\"1\" class=\"dataframe\">\n",
       "  <thead>\n",
       "    <tr style=\"text-align: right;\">\n",
       "      <th></th>\n",
       "      <th>pickup_datetime</th>\n",
       "      <th>trip_time_in_secs</th>\n",
       "      <th>trip_distance</th>\n",
       "    </tr>\n",
       "  </thead>\n",
       "  <tbody>\n",
       "    <tr>\n",
       "      <th>0</th>\n",
       "      <td>2013-06-11 15:41:00</td>\n",
       "      <td>1620</td>\n",
       "      <td>1.36</td>\n",
       "    </tr>\n",
       "    <tr>\n",
       "      <th>1</th>\n",
       "      <td>2013-06-15 18:04:00</td>\n",
       "      <td>960</td>\n",
       "      <td>3.77</td>\n",
       "    </tr>\n",
       "    <tr>\n",
       "      <th>2</th>\n",
       "      <td>2013-06-12 21:55:00</td>\n",
       "      <td>0</td>\n",
       "      <td>0.00</td>\n",
       "    </tr>\n",
       "  </tbody>\n",
       "</table>\n",
       "</div>"
      ],
      "text/plain": [
       "       pickup_datetime  trip_time_in_secs  trip_distance\n",
       "0  2013-06-11 15:41:00               1620           1.36\n",
       "1  2013-06-15 18:04:00                960           3.77\n",
       "2  2013-06-12 21:55:00                  0           0.00"
      ]
     },
     "execution_count": 30,
     "metadata": {},
     "output_type": "execute_result"
    }
   ],
   "source": [
    "taxi_data_frame = pd.read_csv(\"/home/alex/technosfera_dm_taxi/notebooks/trip_data_6_9_15.csv\", sep = ',', low_memory = False)\n",
    "taxi_data_frame = pd.DataFrame(taxi_data_frame, columns = ['pickup_datetime', 'trip_time_in_secs', 'trip_distance'])\n",
    "taxi_data_frame.head(3)"
   ]
  },
  {
   "cell_type": "code",
   "execution_count": 31,
   "metadata": {
    "collapsed": false
   },
   "outputs": [
    {
     "data": {
      "text/html": [
       "<div>\n",
       "<table border=\"1\" class=\"dataframe\">\n",
       "  <thead>\n",
       "    <tr style=\"text-align: right;\">\n",
       "      <th></th>\n",
       "      <th>pickup_datetime</th>\n",
       "      <th>trip_time_in_secs</th>\n",
       "      <th>trip_distance</th>\n",
       "    </tr>\n",
       "  </thead>\n",
       "  <tbody>\n",
       "    <tr>\n",
       "      <th>0</th>\n",
       "      <td>2013-06-11 15:41:00</td>\n",
       "      <td>1620</td>\n",
       "      <td>1.36</td>\n",
       "    </tr>\n",
       "    <tr>\n",
       "      <th>3</th>\n",
       "      <td>2013-06-11 18:52:00</td>\n",
       "      <td>2220</td>\n",
       "      <td>19.79</td>\n",
       "    </tr>\n",
       "    <tr>\n",
       "      <th>13</th>\n",
       "      <td>2013-06-11 13:05:00</td>\n",
       "      <td>360</td>\n",
       "      <td>0.99</td>\n",
       "    </tr>\n",
       "    <tr>\n",
       "      <th>16</th>\n",
       "      <td>2013-06-11 16:53:00</td>\n",
       "      <td>1560</td>\n",
       "      <td>4.75</td>\n",
       "    </tr>\n",
       "    <tr>\n",
       "      <th>17</th>\n",
       "      <td>2013-06-11 21:37:00</td>\n",
       "      <td>300</td>\n",
       "      <td>0.72</td>\n",
       "    </tr>\n",
       "    <tr>\n",
       "      <th>20</th>\n",
       "      <td>2013-06-11 11:21:00</td>\n",
       "      <td>420</td>\n",
       "      <td>0.96</td>\n",
       "    </tr>\n",
       "    <tr>\n",
       "      <th>29</th>\n",
       "      <td>2013-06-11 06:43:00</td>\n",
       "      <td>960</td>\n",
       "      <td>4.06</td>\n",
       "    </tr>\n",
       "    <tr>\n",
       "      <th>50</th>\n",
       "      <td>2013-06-11 12:11:00</td>\n",
       "      <td>1260</td>\n",
       "      <td>9.78</td>\n",
       "    </tr>\n",
       "    <tr>\n",
       "      <th>57</th>\n",
       "      <td>2013-06-11 12:57:00</td>\n",
       "      <td>1620</td>\n",
       "      <td>10.34</td>\n",
       "    </tr>\n",
       "    <tr>\n",
       "      <th>60</th>\n",
       "      <td>2013-06-11 18:46:00</td>\n",
       "      <td>540</td>\n",
       "      <td>0.59</td>\n",
       "    </tr>\n",
       "  </tbody>\n",
       "</table>\n",
       "</div>"
      ],
      "text/plain": [
       "        pickup_datetime  trip_time_in_secs  trip_distance\n",
       "0   2013-06-11 15:41:00               1620           1.36\n",
       "3   2013-06-11 18:52:00               2220          19.79\n",
       "13  2013-06-11 13:05:00                360           0.99\n",
       "16  2013-06-11 16:53:00               1560           4.75\n",
       "17  2013-06-11 21:37:00                300           0.72\n",
       "20  2013-06-11 11:21:00                420           0.96\n",
       "29  2013-06-11 06:43:00                960           4.06\n",
       "50  2013-06-11 12:11:00               1260           9.78\n",
       "57  2013-06-11 12:57:00               1620          10.34\n",
       "60  2013-06-11 18:46:00                540           0.59"
      ]
     },
     "execution_count": 31,
     "metadata": {},
     "output_type": "execute_result"
    }
   ],
   "source": [
    "taxi_data_frame = taxi_data_frame[taxi_data_frame['pickup_datetime'] > '2013-06-11']\n",
    "taxi_data_frame = taxi_data_frame[taxi_data_frame['pickup_datetime'] < '2013-06-12']\n",
    "taxi_data_frame.head(10)"
   ]
  },
  {
   "cell_type": "code",
   "execution_count": 41,
   "metadata": {
    "collapsed": false
   },
   "outputs": [],
   "source": [
    "#speed = []\n",
    "time_dist = taxi_data_frame.as_matrix(columns = ['trip_time_in_secs', 'trip_distance'])\n",
    "speed = map(lambda x: x[1] / (x[0] / 60.0 / 60.0), time_dist)\n"
   ]
  },
  {
   "cell_type": "code",
   "execution_count": 45,
   "metadata": {
    "collapsed": false
   },
   "outputs": [
    {
     "data": {
      "text/plain": [
       "(0.8647065162658691, 4.312965273811642e-08)"
      ]
     },
     "execution_count": 45,
     "metadata": {},
     "output_type": "execute_result"
    }
   ],
   "source": [
    "speed = filter(lambda x: x > 0 and x < 10000, speed)\n",
    "\n",
    "from scipy import stats\n",
    "\n",
    "stats.shapiro(speed[0:100], a=None, reta=False)"
   ]
  },
  {
   "cell_type": "code",
   "execution_count": 47,
   "metadata": {
    "collapsed": false
   },
   "outputs": [
    {
     "data": {
      "text/plain": [
       "[3.0222222222222221,\n",
       " 32.091891891891891,\n",
       " 9.8999999999999986,\n",
       " 10.961538461538462,\n",
       " 8.6400000000000006,\n",
       " 8.2285714285714278,\n",
       " 15.224999999999998,\n",
       " 27.942857142857143,\n",
       " 22.977777777777778,\n",
       " 3.9333333333333331,\n",
       " 10.199999999999999,\n",
       " 20.800000000000001,\n",
       " 32.690909090909088,\n",
       " 35.983333333333334,\n",
       " 32.419354838709673,\n",
       " 14.030769230769231,\n",
       " 9.6000000000000014,\n",
       " 28.437209302325581,\n",
       " 21.900000000000002,\n",
       " 18.88421052631579,\n",
       " 4.9333333333333336,\n",
       " 37.515789473684215,\n",
       " 15.428571428571429,\n",
       " 14.58181818181818,\n",
       " 28.549999999999997,\n",
       " 13.989473684210527,\n",
       " 24.0,\n",
       " 33.194117647058825,\n",
       " 14.400000000000002,\n",
       " 27.529411764705884,\n",
       " 8.8499999999999996,\n",
       " 9.4235294117647062,\n",
       " 36.192857142857143,\n",
       " 14.16,\n",
       " 10.6,\n",
       " 26.300000000000001,\n",
       " 8.5999999999999996,\n",
       " 7.2000000000000002,\n",
       " 2.5500000000000003,\n",
       " 18.999999999999996,\n",
       " 27.431250000000002,\n",
       " 35.033333333333331,\n",
       " 9.5999999999999996,\n",
       " 10.028571428571428,\n",
       " 11.466666666666667,\n",
       " 6.0545454545454538,\n",
       " 11.76,\n",
       " 11.473684210526317,\n",
       " 11.640000000000001,\n",
       " 7.2214285714285715,\n",
       " 9.7411764705882344,\n",
       " 13.440000000000001,\n",
       " 11.550000000000001,\n",
       " 13.200000000000001,\n",
       " 23.181818181818183,\n",
       " 12.449999999999999,\n",
       " 4.3636363636363642,\n",
       " 6.9428571428571431,\n",
       " 15.9375,\n",
       " 14.057142857142857,\n",
       " 8.8320000000000007,\n",
       " 13.4,\n",
       " 4.8000000000000007,\n",
       " 14.400000000000002,\n",
       " 9.7411764705882344,\n",
       " 16.599999999999998,\n",
       " 6.3600000000000003,\n",
       " 6.2181818181818178,\n",
       " 8.0,\n",
       " 9.8307692307692296,\n",
       " 10.32,\n",
       " 6.1200000000000001,\n",
       " 6.8307692307692305,\n",
       " 8.7000000000000011,\n",
       " 25.600000000000001,\n",
       " 11.399999999999999,\n",
       " 9.3000000000000007,\n",
       " 11.25,\n",
       " 8.4000000000000004,\n",
       " 16.881818181818183,\n",
       " 10.449999999999999,\n",
       " 12.299999999999999,\n",
       " 11.355555555555556,\n",
       " 11.880000000000001,\n",
       " 15.450000000000001,\n",
       " 10.145454545454545,\n",
       " 14.899999999999999,\n",
       " 11.966666666666667,\n",
       " 10.26,\n",
       " 5.4857142857142858,\n",
       " 11.800000000000001,\n",
       " 6.9473684210526327,\n",
       " 10.728,\n",
       " 20.760000000000002,\n",
       " 12.1,\n",
       " 6.9750000000000005,\n",
       " 12.6,\n",
       " 7.2705882352941185,\n",
       " 3.5454545454545459,\n",
       " 8.4521739130434774]"
      ]
     },
     "execution_count": 47,
     "metadata": {},
     "output_type": "execute_result"
    }
   ],
   "source": [
    "speed[0:100]"
   ]
  }
 ],
 "metadata": {
  "kernelspec": {
   "display_name": "Python 2",
   "language": "python",
   "name": "python2"
  },
  "language_info": {
   "codemirror_mode": {
    "name": "ipython",
    "version": 2
   },
   "file_extension": ".py",
   "mimetype": "text/x-python",
   "name": "python",
   "nbconvert_exporter": "python",
   "pygments_lexer": "ipython2",
   "version": "2.7.10"
  }
 },
 "nbformat": 4,
 "nbformat_minor": 0
}
